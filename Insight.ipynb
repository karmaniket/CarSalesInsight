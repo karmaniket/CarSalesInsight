{
 "cells": [
  {
   "cell_type": "code",
   "execution_count": 20,
   "id": "3b6402e6-2066-4933-85f6-6be0b98c8626",
   "metadata": {},
   "outputs": [],
   "source": [
    "import os\n",
    "import numpy as np\n",
    "import pandas as pd\n",
    "from sklearn.linear_model import LinearRegression as lr\n",
    "from sklearn.metrics import mean_squared_error, r2_score\n",
    "import matplotlib.pyplot as plt\n",
    "import seaborn as sbn"
   ]
  },
  {
   "cell_type": "code",
   "execution_count": 21,
   "id": "c736d919-e166-4ae0-a402-b38004192739",
   "metadata": {},
   "outputs": [],
   "source": [
    "sbn.set()"
   ]
  },
  {
   "cell_type": "code",
   "execution_count": 22,
   "id": "e53bb8b6-3436-42a2-bf04-2764b4cdecbf",
   "metadata": {},
   "outputs": [],
   "source": [
    "cars_data = pd.read_csv('cars_2000_2024.csv')"
   ]
  },
  {
   "cell_type": "code",
   "execution_count": 23,
   "id": "4d592e71-325c-4eb5-884d-73e43b07a6f0",
   "metadata": {},
   "outputs": [
    {
     "name": "stdout",
     "output_type": "stream",
     "text": [
      "   Year Car brand  Number of Cars sold\n",
      "0  2000    toyota                40563\n",
      "1  2000       bmw                28433\n",
      "2  2000     honda                43184\n",
      "3  2000      ford                82596\n",
      "4  2000    nissan                57383\n"
     ]
    }
   ],
   "source": [
    "print(cars_data.head())"
   ]
  },
  {
   "cell_type": "code",
   "execution_count": 24,
   "id": "4c62e531-a1c5-48f4-95f7-f13394708636",
   "metadata": {},
   "outputs": [],
   "source": [
    "def plot_sales(car_brand):\n",
    "    brand_data = cars_data[cars_data['Car brand'].str.lower() == car_brand.lower()]\n",
    "    if brand_data.empty:\n",
    "        print(f\"Brand '{car_brand}' not found in data.\")\n",
    "        return\n",
    "\n",
    "    x = brand_data[['Year']].values\n",
    "    y = brand_data[['Number of Cars sold']].values\n",
    "    model = lr()\n",
    "    model.fit(x, y)\n",
    "    y_pred = model.predict(x)\n",
    "    pred_2025 = model.predict(np.array([[2025]]))\n",
    "\n",
    "    plt.figure(figsize=(10, 6))\n",
    "    plt.scatter(x, y, color='blue', label='Actual Sales')\n",
    "    plt.plot(x, y_pred, color='red', label='Predicted Sales')\n",
    "    plt.plot([x[-1][0], 2025], [y_pred[-1][0], pred_2025[0][0]], 'g--', label='2025 Prediction')\n",
    "    plt.xlabel('Year')\n",
    "    plt.ylabel('Number of cars sold')\n",
    "    plt.title(f'{car_brand.title()} Sales & 2025 Prediction')\n",
    "    plt.legend()\n",
    "    os.makedirs('output', exist_ok=True)\n",
    "    plt.savefig(f'output/{car_brand.lower()}_sales_and_prediction.png')\n",
    "    plt.close()\n",
    "    print(f\"2025 predicted sales for {car_brand.title()}: {int(pred_2025[0][0])}\")\n",
    "    print(f'Intercept: {model.intercept_[0]}')\n",
    "    print(f'Coefficient: {model.coef_[0][0]}')\n",
    "    print(f'R2 Score: {r2_score(y, y_pred)}')\n",
    "    mse = mean_squared_error(y, y_pred)\n",
    "    rmse = np.sqrt(mse)\n",
    "    print(f'RMSE: {rmse}')"
   ]
  },
  {
   "cell_type": "code",
   "execution_count": 25,
   "id": "58110eb1-793d-4046-a37b-db9c053dbbae",
   "metadata": {},
   "outputs": [
    {
     "name": "stdout",
     "output_type": "stream",
     "text": [
      "2025 predicted sales for Toyota: 78869\n",
      "Intercept: -3448764.95826087\n",
      "Coefficient: 1742.041739130435\n",
      "R2 Score: 0.19087748972194052\n",
      "RMSE: 24827.422802213227\n"
     ]
    }
   ],
   "source": [
    "plot_sales('toyota')"
   ]
  },
  {
   "cell_type": "code",
   "execution_count": 26,
   "id": "3d97f479-ff90-46c1-9769-b929ad177c22",
   "metadata": {},
   "outputs": [
    {
     "name": "stdout",
     "output_type": "stream",
     "text": [
      "2025 predicted sales for Ford: 48532\n",
      "Intercept: 189439.16652173884\n",
      "Coefficient: -69.58347826086941\n",
      "R2 Score: 0.00037492300426600345\n",
      "RMSE: 24871.212626654407\n"
     ]
    }
   ],
   "source": [
    "plot_sales('ford')"
   ]
  }
 ],
 "metadata": {
  "kernelspec": {
   "display_name": "Python 3",
   "language": "python",
   "name": "python3"
  },
  "language_info": {
   "codemirror_mode": {
    "name": "ipython",
    "version": 3
   },
   "file_extension": ".py",
   "mimetype": "text/x-python",
   "name": "python",
   "nbconvert_exporter": "python",
   "pygments_lexer": "ipython3",
   "version": "3.11.9"
  }
 },
 "nbformat": 4,
 "nbformat_minor": 5
}
