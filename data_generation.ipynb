{
 "cells": [
  {
   "cell_type": "code",
   "execution_count": 1,
   "id": "f409879b-8f6c-4718-ab92-6390695b4097",
   "metadata": {},
   "outputs": [],
   "source": [
    "import numpy as np"
   ]
  },
  {
   "cell_type": "code",
   "execution_count": 2,
   "id": "5c1b5a0e-e4e0-4178-9efc-783084824f4d",
   "metadata": {},
   "outputs": [],
   "source": [
    "import pandas as pd"
   ]
  },
  {
   "cell_type": "code",
   "execution_count": 3,
   "id": "03e3cd13-5ee0-4286-b778-8e629a63dc25",
   "metadata": {},
   "outputs": [],
   "source": [
    "import random"
   ]
  },
  {
   "cell_type": "code",
   "execution_count": 4,
   "id": "c579981c-504d-42b2-a754-2efe903b0a9c",
   "metadata": {},
   "outputs": [],
   "source": [
    "np.random.seed(0)"
   ]
  },
  {
   "cell_type": "code",
   "execution_count": 5,
   "id": "01f1f1a0-9264-415b-b1fc-018ae93f95c7",
   "metadata": {},
   "outputs": [],
   "source": [
    "car_brands = ['toyota','bmw','honda','ford','nissan','chevrolet','volkswagen','mercedes-benz','audi','hyundai','porsche','aston martin','lexus','jaguar','alpha romeo','maserati','lamborghini','koenigsegg']"
   ]
  },
  {
   "cell_type": "code",
   "execution_count": 6,
   "id": "7518f6b3-7b3c-4d90-9146-af75b99050e2",
   "metadata": {},
   "outputs": [],
   "source": [
    "years = np.arange(2000, 2024)"
   ]
  },
  {
   "cell_type": "code",
   "execution_count": 7,
   "id": "1a293738-244a-42a4-975d-490a1883313b",
   "metadata": {},
   "outputs": [],
   "source": [
    "data = []"
   ]
  },
  {
   "cell_type": "code",
   "execution_count": 8,
   "id": "dc5bd945-3783-4e87-93ec-91568bee1fdf",
   "metadata": {},
   "outputs": [],
   "source": [
    "for year in years:\n",
    "    for brand in car_brands:\n",
    "        cars_sold = random.randint(1000, 100000)\n",
    "        data.append([year, brand, cars_sold])"
   ]
  },
  {
   "cell_type": "code",
   "execution_count": 9,
   "id": "fca6ad6f-dd7f-4512-ac59-bd7f839ca2bc",
   "metadata": {},
   "outputs": [],
   "source": [
    "car_sales_data = pd.DataFrame(data, columns=['Year', 'Car brand','Number of Cars sold'])"
   ]
  },
  {
   "cell_type": "code",
   "execution_count": 10,
   "id": "9c11361e-94a6-44b4-9726-d9287fdef9eb",
   "metadata": {},
   "outputs": [
    {
     "name": "stdout",
     "output_type": "stream",
     "text": [
      "   Year Car brand  Number of Cars sold\n",
      "0  2000    toyota                40563\n",
      "1  2000       bmw                28433\n",
      "2  2000     honda                43184\n",
      "3  2000      ford                82596\n",
      "4  2000    nissan                57383\n"
     ]
    }
   ],
   "source": [
    "print(car_sales_data.head())"
   ]
  },
  {
   "cell_type": "code",
   "execution_count": 11,
   "id": "cce1f5aa-86c7-46cb-bfec-0b1e7f734ba1",
   "metadata": {},
   "outputs": [],
   "source": [
    "car_sales_data.to_csv('cars_2000_2024.csv', index= False)"
   ]
  }
 ],
 "metadata": {
  "kernelspec": {
   "display_name": "Python 3",
   "language": "python",
   "name": "python3"
  },
  "language_info": {
   "codemirror_mode": {
    "name": "ipython",
    "version": 3
   },
   "file_extension": ".py",
   "mimetype": "text/x-python",
   "name": "python",
   "nbconvert_exporter": "python",
   "pygments_lexer": "ipython3",
   "version": "3.11.9"
  }
 },
 "nbformat": 4,
 "nbformat_minor": 5
}
